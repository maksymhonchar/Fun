{
 "cells": [
  {
   "cell_type": "code",
   "execution_count": 109,
   "metadata": {},
   "outputs": [],
   "source": [
    "import pickle\n",
    "\n",
    "%matplotlib inline\n",
    "import matplotlib.pyplot as plt\n",
    "\n",
    "import numpy as np\n",
    "\n",
    "import pandas as pd\n",
    "pd.options.display.max_columns = None\n",
    "\n",
    "from sklearn.model_selection import StratifiedKFold, StratifiedShuffleSplit, learning_curve, GridSearchCV, train_test_split\n",
    "from sklearn.metrics import classification_report, confusion_matrix, precision_score, recall_score\n",
    "from sklearn.preprocessing import StandardScaler\n",
    "\n",
    "from sklearn.linear_model import LogisticRegression\n",
    "\n",
    "from sklearn.utils import resample\n",
    "\n",
    "from imblearn.over_sampling import SMOTE"
   ]
  },
  {
   "cell_type": "code",
   "execution_count": 2,
   "metadata": {},
   "outputs": [],
   "source": [
    "# Load preprocessed dataset\n",
    "\n",
    "PREPROCESSED_DF_PATH = 'preprocessed_applications_df.dataframe.pd'\n",
    "main_df = pickle.load( open(PREPROCESSED_DF_PATH, 'rb') )"
   ]
  },
  {
   "cell_type": "code",
   "execution_count": 3,
   "metadata": {
    "scrolled": false
   },
   "outputs": [],
   "source": [
    "# Remove redundant features\n",
    "\n",
    "target_ids = main_df['appl_id']\n",
    "target_labels = main_df['df']\n",
    "\n",
    "features_to_drop = [\n",
    "    'appl_id', 'client_id',\n",
    "    'app_crtime', 'birth', 'pass_bdate', 'lived_since', 'is_same_reg_lived_since', 'jobsworksince',\n",
    "    'df'  # target feature\n",
    "]\n",
    "main_df = main_df.drop( features_to_drop, axis=1 )"
   ]
  },
  {
   "cell_type": "code",
   "execution_count": 4,
   "metadata": {},
   "outputs": [
    {
     "data": {
      "text/plain": [
       "((8068, 55), (8068, 127))"
      ]
     },
     "execution_count": 4,
     "metadata": {},
     "output_type": "execute_result"
    }
   ],
   "source": [
    "# Encode several features\n",
    "\n",
    "features_to_encode = [\n",
    "    'gender',\n",
    "    'top_browser', 'top_platform',\n",
    "    'total_devices_cnt',\n",
    "    'visit_top_dayofweek', 'visit_top_dayhour',\n",
    "    'binned_visit_top_dayhour', \n",
    "    'binned_fam_status', 'binned_quantity_child', 'binned_max_age_child',\n",
    "    'binned_property',\n",
    "    'binned_region', 'binned_region_reg',\n",
    "    'binned_work_experience', 'binned_empl_state', 'binned_empl_type', 'binned_empl_worker_count', \n",
    "    'binned_education_area', 'binned_education',\n",
    "    'binned_days_from_birth', 'binned_days_from_passbdate',\n",
    "    'app_month_num'\n",
    "]\n",
    "\n",
    "for feature_name in features_to_encode:\n",
    "    main_df[feature_name] = main_df[feature_name].astype('category')\n",
    "\n",
    "main_encoded_df = pd.get_dummies(\n",
    "    main_df, columns=features_to_encode, drop_first=True\n",
    ")\n",
    "main_df.shape, main_encoded_df.shape"
   ]
  },
  {
   "cell_type": "code",
   "execution_count": 5,
   "metadata": {},
   "outputs": [],
   "source": [
    "def draw_learning_curve(estimator, X_tr, y_tr):\n",
    "    train_sizes, train_scores, val_scores = learning_curve(\n",
    "        estimator, X_tr, y_tr, train_sizes=np.linspace(0.1, 1.0, 5), cv=3\n",
    "    )\n",
    "    train_scores_mean = np.mean(train_scores, axis=1)\n",
    "    train_scores_std = np.std(train_scores, axis=1)\n",
    "    val_scores_mean = np.mean(val_scores, axis=1)\n",
    "    val_scores_std = np.std(val_scores, axis=1)\n",
    "    plt.grid()\n",
    "    plt.fill_between(\n",
    "        train_sizes,\n",
    "        train_scores_mean - train_scores_std,\n",
    "        train_scores_mean + train_scores_std,\n",
    "        alpha=0.1, color=\"r\"\n",
    "    )\n",
    "    plt.fill_between(\n",
    "        train_sizes,\n",
    "        val_scores_mean - val_scores_std,\n",
    "        val_scores_mean + val_scores_std,\n",
    "        alpha=0.1, color=\"g\"\n",
    "    )\n",
    "    plt.plot(\n",
    "        train_sizes,\n",
    "        train_scores_mean,\n",
    "        'o-', color=\"r\", label=\"Training score\"\n",
    "    )\n",
    "    plt.plot(\n",
    "        train_sizes,\n",
    "        val_scores_mean,\n",
    "        'o-', color=\"g\", label=\"Cross-validation score\"\n",
    "    )\n",
    "    plt.legend(loc=\"best\")\n",
    "    plt.show()"
   ]
  },
  {
   "cell_type": "code",
   "execution_count": 6,
   "metadata": {},
   "outputs": [],
   "source": [
    "# Scale data logistic regression\n",
    "\n",
    "standard_scl = StandardScaler()\n",
    "\n",
    "main_df = standard_scl.fit_transform( main_df )"
   ]
  },
  {
   "cell_type": "code",
   "execution_count": 7,
   "metadata": {},
   "outputs": [
    {
     "data": {
      "text/plain": [
       "'train labels shape: (3996,)'"
      ]
     },
     "metadata": {},
     "output_type": "display_data"
    },
    {
     "data": {
      "text/plain": [
       "'train data shape: (3996, 127)'"
      ]
     },
     "metadata": {},
     "output_type": "display_data"
    }
   ],
   "source": [
    "# Prepare train df and train target labels\n",
    "\n",
    "train_labels = target_labels[ target_labels.isnull() == False ]\n",
    "display('train labels shape: {0}'.format(train_labels.shape))\n",
    "\n",
    "train_df = main_encoded_df.loc[train_labels.index, :]\n",
    "display('train data shape: {0}'.format(train_df.shape))"
   ]
  },
  {
   "cell_type": "code",
   "execution_count": 8,
   "metadata": {},
   "outputs": [],
   "source": [
    "# Encode target labels\n",
    "\n",
    "enc_train_labels = train_labels.map({\n",
    "    'bad': 0, 'good': 1\n",
    "})"
   ]
  },
  {
   "cell_type": "code",
   "execution_count": 9,
   "metadata": {},
   "outputs": [],
   "source": [
    "# Stratified CV\n",
    "\n",
    "skf = StratifiedKFold(\n",
    "    n_splits=3,\n",
    "    shuffle=True\n",
    ")\n",
    "\n",
    "for train_idx, val_idx in skf.split(train_df, enc_train_labels):\n",
    "    X_tr, X_val = train_df.iloc[train_idx, :], train_df.iloc[val_idx, :]\n",
    "    y_tr, y_val = enc_train_labels.iloc[train_idx], enc_train_labels.iloc[val_idx]\n",
    "\n",
    "    lr_model = LogisticRegression(\n",
    "        C=0.21544346900318845,\n",
    "        solver='lbfgs',\n",
    "        max_iter=100000,\n",
    "        n_jobs=-1\n",
    "    )\n",
    "    lr_model.fit(X_tr, y_tr)\n",
    "    lr_val_pred = lr_model.predict(X_val)\n",
    "    print(confusion_matrix(y_val, lr_val_pred))\n",
    "\n",
    "    draw_learning_curve( lr_model, X_tr, y_tr )\n",
    "    \n",
    "    \n",
    "# For skf, the best log reg params are\n",
    "# {'C': 0.21544346900318845, 'solver': 'lbfgs'}"
   ]
  },
  {
   "cell_type": "code",
   "execution_count": 10,
   "metadata": {
    "scrolled": false
   },
   "outputs": [],
   "source": [
    "# Stratified Shuffle CV\n",
    "\n",
    "sss = StratifiedShuffleSplit(\n",
    "    n_splits=3,\n",
    "    test_size=0.4,\n",
    ")\n",
    "\n",
    "for train_idx, val_idx in sss.split(train_df, enc_train_labels):\n",
    "    X_tr, X_val = train_df.iloc[train_idx, :], train_df.iloc[val_idx, :]\n",
    "    y_tr, y_val = enc_train_labels.iloc[train_idx], enc_train_labels.iloc[val_idx]\n",
    "    \n",
    "    # Not enough variance to explain the data\n",
    "    model_logreg = LogisticRegression(\n",
    "        C=0.046415888336127774,\n",
    "        solver='lbfgs',\n",
    "        max_iter=100000,\n",
    "        n_jobs=-1\n",
    "    )\n",
    "    model_logreg.fit( X_tr, y_tr )\n",
    "    logreg_val_pred = model_logreg.predict( X_val )\n",
    "    print(confusion_matrix(y_val, logreg_val_pred))\n",
    "    \n",
    "    draw_learning_curve( lr_model, X_tr, y_tr )\n",
    "\n",
    "\n",
    "# For sss, the best log reg params are\n",
    "# {'C': 0.046415888336127774, 'solver': 'lbfgs'}"
   ]
  },
  {
   "cell_type": "code",
   "execution_count": 11,
   "metadata": {},
   "outputs": [],
   "source": [
    "# Adding more features and shuffling data didn't help high bias problem"
   ]
  },
  {
   "cell_type": "code",
   "execution_count": 68,
   "metadata": {},
   "outputs": [
    {
     "data": {
      "text/plain": [
       "'classes before:'"
      ]
     },
     "metadata": {},
     "output_type": "display_data"
    },
    {
     "data": {
      "text/plain": [
       "1    3006\n",
       "0     990\n",
       "Name: df, dtype: int64"
      ]
     },
     "metadata": {},
     "output_type": "display_data"
    },
    {
     "data": {
      "text/plain": [
       "'classes after:'"
      ]
     },
     "metadata": {},
     "output_type": "display_data"
    },
    {
     "data": {
      "text/plain": [
       "1    4552\n",
       "0    1448\n",
       "Name: df, dtype: int64"
      ]
     },
     "metadata": {},
     "output_type": "display_data"
    },
    {
     "data": {
      "text/plain": [
       "'unique indices before:'"
      ]
     },
     "metadata": {},
     "output_type": "display_data"
    },
    {
     "data": {
      "text/plain": [
       "(3996,)"
      ]
     },
     "metadata": {},
     "output_type": "display_data"
    },
    {
     "data": {
      "text/plain": [
       "'unique indices after:'"
      ]
     },
     "metadata": {},
     "output_type": "display_data"
    },
    {
     "data": {
      "text/plain": [
       "(3091,)"
      ]
     },
     "metadata": {},
     "output_type": "display_data"
    }
   ],
   "source": [
    "# Try resampling the data (x2 with replacement)\n",
    "\n",
    "# train_df['df'] = enc_train_labels\n",
    "\n",
    "# resampled_train = resample(\n",
    "#     train_df,\n",
    "#     replace=True,\n",
    "#     n_samples=6000\n",
    "# )\n",
    "\n",
    "# display('classes before:', train_df['df'].value_counts())\n",
    "# display('classes after:', resampled_train['df'].value_counts())\n",
    "# display('unique indices before:', np.unique(train_df.index).shape)\n",
    "# display('unique indices after:', np.unique(resampled_train.index).shape)\n",
    "\n",
    "# # Prepare for CV\n",
    "# resampled_train_labels = resampled_train['df']\n",
    "# resampled_train = resampled_train.drop( ['df'], axis=1 )\n",
    "\n",
    "# Resampling whole dataset doesn't work - same really low recall"
   ]
  },
  {
   "cell_type": "code",
   "execution_count": 180,
   "metadata": {},
   "outputs": [
    {
     "data": {
      "text/plain": [
       "(2970, 127)"
      ]
     },
     "metadata": {},
     "output_type": "display_data"
    },
    {
     "data": {
      "text/plain": [
       "(2970,)"
      ]
     },
     "metadata": {},
     "output_type": "display_data"
    },
    {
     "data": {
      "text/plain": [
       "1    1800\n",
       "0    1170\n",
       "dtype: int64"
      ]
     },
     "metadata": {},
     "output_type": "display_data"
    },
    {
     "data": {
      "text/plain": [
       "'Validation results'"
      ]
     },
     "metadata": {},
     "output_type": "display_data"
    },
    {
     "name": "stdout",
     "output_type": "stream",
     "text": [
      "accuracy 0.7198248905565978\n",
      "recall 0.9038142620232172\n",
      "precision 0.7665260196905767\n",
      "\n",
      "confusion matrix:\n",
      " [[  61  332]\n",
      " [ 116 1090]]\n",
      "              precision    recall  f1-score   support\n",
      "\n",
      "           0       0.34      0.16      0.21       393\n",
      "           1       0.77      0.90      0.83      1206\n",
      "\n",
      "    accuracy                           0.72      1599\n",
      "   macro avg       0.56      0.53      0.52      1599\n",
      "weighted avg       0.66      0.72      0.68      1599\n",
      "\n"
     ]
    }
   ],
   "source": [
    "# Try oversampling, way 2: imblearn.over_sampling.SMOTE, knn-based algorithm\n",
    "\n",
    "train_target = train_df['df']\n",
    "train_features = train_df.drop(['df'], axis=1)\n",
    "\n",
    "# Divide into train/valid sets before oversampling\n",
    "VALID_SIZE = 0.4\n",
    "X_tr, X_val, y_tr, y_val = train_test_split(\n",
    "    train_features, train_target, \n",
    "    test_size=VALID_SIZE\n",
    ")\n",
    "\n",
    "# Resample using SMOTE\n",
    "sm = SMOTE(ratio=0.65)\n",
    "X_tr_res, y_tr_res = sm.fit_sample( X_tr, y_tr )\n",
    "display( X_tr_res.shape, y_tr_res.shape, pd.Series(y_tr_res).value_counts() )\n",
    "\n",
    "# Create a model\n",
    "lr_model = LogisticRegression(\n",
    "    solver='lbfgs',\n",
    "    C=0.004,\n",
    "    n_jobs=-1\n",
    ")\n",
    "lr_model.fit( X_tr_res, y_tr_res )\n",
    "\n",
    "# View the metrics\n",
    "display('Validation results')\n",
    "val_y_pred = lr_model.predict(X_val)\n",
    "print( 'accuracy', lr_model.score(X_val, y_val) )\n",
    "print( 'recall', recall_score(y_val, val_y_pred ) )\n",
    "print( 'precision', precision_score(y_val, val_y_pred) )\n",
    "print( '\\nconfusion matrix:\\n', confusion_matrix(y_val, val_y_pred) )\n",
    "print( classification_report(y_val, val_y_pred) )"
   ]
  },
  {
   "cell_type": "code",
   "execution_count": null,
   "metadata": {},
   "outputs": [],
   "source": [
    "# We want to specifically classify bad loans - they are more important.\n",
    "# Therefore, we should watch for recall metric - number of correctly predicted positives / total number of positives."
   ]
  }
 ],
 "metadata": {
  "kernelspec": {
   "display_name": "Python 3",
   "language": "python",
   "name": "python3"
  },
  "language_info": {
   "codemirror_mode": {
    "name": "ipython",
    "version": 3
   },
   "file_extension": ".py",
   "mimetype": "text/x-python",
   "name": "python",
   "nbconvert_exporter": "python",
   "pygments_lexer": "ipython3",
   "version": "3.7.3"
  }
 },
 "nbformat": 4,
 "nbformat_minor": 2
}
