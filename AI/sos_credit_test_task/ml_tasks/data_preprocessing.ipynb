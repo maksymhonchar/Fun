{
 "cells": [
  {
   "cell_type": "code",
   "execution_count": 1,
   "metadata": {},
   "outputs": [],
   "source": [
    "import gc\n",
    "\n",
    "%matplotlib inline\n",
    "import matplotlib.pyplot as plt\n",
    "import seaborn as sns\n",
    "\n",
    "import numpy as np\n",
    "\n",
    "from scipy.stats import zscore\n",
    "\n",
    "import pandas as pd\n",
    "pd.options.display.max_columns = None"
   ]
  },
  {
   "cell_type": "code",
   "execution_count": 2,
   "metadata": {},
   "outputs": [],
   "source": [
    "# Load datasets\n",
    "\n",
    "APPL_DATA_CSV_PATH = 'data/appl_data.csv'\n",
    "appl_df = pd.read_csv( APPL_DATA_CSV_PATH, header=0 )\n",
    "\n",
    "BEHAV_ON_SITE_CSV_PATH = 'data/behav_on_site.csv'\n",
    "behav_df = pd.read_csv( BEHAV_ON_SITE_CSV_PATH, header=0 )\n",
    "\n",
    "IS_DEFAULT_CSV_PATH = 'data/is_default.csv'\n",
    "isdef_df = pd.read_csv( IS_DEFAULT_CSV_PATH, header=0 )"
   ]
  },
  {
   "cell_type": "code",
   "execution_count": 3,
   "metadata": {},
   "outputs": [
    {
     "data": {
      "text/plain": [
       "59"
      ]
     },
     "execution_count": 3,
     "metadata": {},
     "output_type": "execute_result"
    }
   ],
   "source": [
    "# Merge application with target data\n",
    "\n",
    "applications_df = pd.merge(\n",
    "    left=appl_df, right=isdef_df,\n",
    "    how='left',\n",
    "    on=['appl_id']\n",
    ")\n",
    "\n",
    "del appl_df, isdef_df\n",
    "gc.collect()"
   ]
  },
  {
   "cell_type": "code",
   "execution_count": 4,
   "metadata": {},
   "outputs": [],
   "source": [
    "# Work on behavioral dataset\n",
    "\n",
    "behav_df['create_time'] = pd.to_datetime( behav_df['create_time'] )"
   ]
  },
  {
   "cell_type": "code",
   "execution_count": 5,
   "metadata": {},
   "outputs": [],
   "source": [
    "# browser: leave only significant ones; merge similar ones;\n",
    "\n",
    "behav_df['binned_browser'] = behav_df['browser'].map({\n",
    "    'Opera': 1, 'Opera Mini': 1,\n",
    "    'Internet Explorer': 2, 'Edge': 2,   \n",
    "    'iPod': 3, 'iPhone': 3, 'iPad': 3,\n",
    "    'Android': 4,\n",
    "    'Firefox': 5,\n",
    "    'Chrome': 6,\n",
    "    'Yandex': 7,\n",
    "    'Safari': 8\n",
    "})\n",
    "behav_df['binned_browser'] = behav_df['binned_browser'].fillna( 9 )\n",
    "behav_df['binned_browser'] = behav_df['binned_browser'].astype( int )\n",
    "\n",
    "# platform: leave only significant ones; merge similar ones;\n",
    "behav_df['binned_platform'] = behav_df['platform'].map({\n",
    "    'Apple': 1, 'iPod': 1, 'iPad': 1,\n",
    "    'iPhone': 2,\n",
    "    'Linux': 3,\n",
    "    'Android': 4,\n",
    "    'Windows': 5,    \n",
    "})\n",
    "behav_df['binned_platform'] = behav_df['binned_platform'].fillna( 6 )\n",
    "behav_df['binned_platform'] = behav_df['binned_platform'].astype( int )"
   ]
  },
  {
   "cell_type": "code",
   "execution_count": 6,
   "metadata": {},
   "outputs": [],
   "source": [
    "# Work on applications dataset\n",
    "\n",
    "# Convert date/datetime features to pd.datetime format\n",
    "\n",
    "applications_df['app_crtime'] = pd.to_datetime( applications_df['app_crtime'] )\n",
    "applications_df['birth'] = pd.to_datetime( applications_df['birth'] )\n",
    "applications_df['pass_bdate'] = pd.to_datetime( applications_df['pass_bdate'] )\n",
    "applications_df['lived_since'] = pd.to_datetime( applications_df['lived_since'] )\n",
    "applications_df['is_same_reg_lived_since'] = pd.to_datetime( applications_df['is_same_reg_lived_since'] )\n",
    "applications_df['jobsworksince'] = pd.to_datetime( applications_df['jobsworksince'] )"
   ]
  },
  {
   "cell_type": "code",
   "execution_count": 7,
   "metadata": {
    "scrolled": false
   },
   "outputs": [],
   "source": [
    "# Fix invalid values\n",
    "\n",
    "# Fix monthlyincome where monthlyincome < 200 (8 observations) or montlycost < 200 (146 observations)\n",
    "# Assume some missed *1000\n",
    "too_small_income_indices = applications_df[applications_df['monthlyincome'] < 200].index\n",
    "too_small_expenses_indices = applications_df[applications_df['monthlycost'] < 200].index\n",
    "\n",
    "applications_df.loc[too_small_income_indices, 'monthlyincome'] *= 1000\n",
    "applications_df.loc[too_small_expenses_indices, 'monthlycost'] *= 1000"
   ]
  },
  {
   "cell_type": "code",
   "execution_count": 8,
   "metadata": {},
   "outputs": [],
   "source": [
    "# Fix max_age_child where quantity_child=0 but max_age_child!=0\n",
    "\n",
    "# All observations are old enough to have a child\n",
    "# Assume these observations have 1 child\n",
    "\n",
    "invalid_maxagechild_indices = applications_df[\n",
    "    (applications_df['quantity_child'] == 0) &\n",
    "    (applications_df['max_age_child'] != 0)\n",
    "].index\n",
    "\n",
    "applications_df.loc[invalid_maxagechild_indices, 'quantity_child'] = 1"
   ]
  },
  {
   "cell_type": "code",
   "execution_count": 9,
   "metadata": {
    "scrolled": false
   },
   "outputs": [],
   "source": [
    "# Fix NaN values\n",
    "\n",
    "# 'pass_bdate' feature: \n",
    "# Assume they got passport in the age of 16 yo\n",
    "\n",
    "# display( 'pass_bdate nan shape:', applications_df[ applications_df['pass_bdate'].isnull() ].shape )\n",
    "\n",
    "pass_bdate_fill_value = applications_df['birth'] + np.timedelta64(16, 'Y')\n",
    "applications_df['pass_bdate'] = applications_df['pass_bdate'].fillna( pass_bdate_fill_value )"
   ]
  },
  {
   "cell_type": "code",
   "execution_count": 10,
   "metadata": {},
   "outputs": [],
   "source": [
    "# 'max_age_child' feature:\n",
    "# There are observations with quantity_child=0, but max_age_child=np.nan : in these cases, assume max_age_child=0\n",
    "# zero_children_maxage_nan = applications_df[ (applications_df['quantity_child'] == 0) & (applications_df['max_age_child'].isnull()) ]\n",
    "\n",
    "# display( zero_children_maxage_nan['quantity_child'].value_counts() )\n",
    "\n",
    "applications_df['max_age_child'] = applications_df['max_age_child'].fillna( 0 )"
   ]
  },
  {
   "cell_type": "code",
   "execution_count": 11,
   "metadata": {},
   "outputs": [],
   "source": [
    "# 'jobsworksince' feature:\n",
    "# Because later this feature will be transformed into 'days jobs work since' as app_crtime-jobsworksince,\n",
    "# assume value of this feature will equal to app_crtime, so that 'days jobs work since' will be equal to \"0\"\n",
    "\n",
    "# display( applications_df[ applications_df['jobsworksince'].isnull() ] )\n",
    "\n",
    "applications_df['jobsworksince'] = applications_df['jobsworksince'].dt.date\n",
    "fixed_jobsworksince = applications_df['jobsworksince'].fillna( applications_df['app_crtime'].dt.date )\n",
    "applications_df['jobsworksince'] = fixed_jobsworksince"
   ]
  },
  {
   "cell_type": "code",
   "execution_count": 12,
   "metadata": {},
   "outputs": [],
   "source": [
    "# 'empl_type' and 'empl_worker_count'\n",
    "# 945/946 observations have NaN values in empl_type and empl_worker_count at the same time\n",
    "# This might suggest that there is 'other number of workers' for some 'other_empl_type' job - replacing this way is too risky (946 observations)\n",
    "\n",
    "# display( applications_df[ applications_df['empl_type'].isnull() ] )\n",
    "# display( applications_df[ (applications_df['empl_type'].isnull()) & (applications_df['empl_worker_count'].isnull()) ].shape )\n",
    "\n",
    "# Replace the values after grouping by certain 'empl_state' and getting most common 'empl_type' and 'empl_worker_count' for that 'empl_state' group\n",
    "# empl_state_groupby = applications_df[ ['empl_state', 'empl_type', 'empl_worker_count'] ].groupby( by='empl_state' )\n",
    "# for name, group in empl_state_groupby:\n",
    "#     group_nonan = group.dropna()\n",
    "#     print(name)\n",
    "#     print( group['empl_type'].mean() )\n",
    "#     print( group['empl_worker_count'].mean() )\n",
    "#     display(group_nonan.shape, group.shape)\n",
    "\n",
    "applications_df['empl_type'] = applications_df['empl_type'].fillna( 0 )  # some 'other' employment type\n",
    "applications_df['empl_worker_count'] = applications_df['empl_worker_count'].fillna( 0 )  # some 'other' number of workers"
   ]
  },
  {
   "cell_type": "code",
   "execution_count": 13,
   "metadata": {
    "scrolled": false
   },
   "outputs": [],
   "source": [
    "# 'education_area'\n",
    "\n",
    "# Observations with empty 'education_area' have 'education' in (3, 5, 6)\n",
    "# By looking at 'education' (3,5,6) groups and their salary/income values,\n",
    "# these 'education' categories have lowest median income / expenses values.\n",
    "# Observations with empty 'education_area' have median income 6500 and median expenses 3000\n",
    "# The same values of income/expenses are in education category \"6\", \"3\" or \"5\"\n",
    "# However, all \"education_area\" values in (3,5,6) education categories are NaN\n",
    "\n",
    "# Assume there is some 'other' education area\n",
    "\n",
    "# display( applications_df[applications_df['education_area'].isnull()] )\n",
    "\n",
    "# display( applications_df[applications_df['education_area'].isnull()]['education'].value_counts() )\n",
    "\n",
    "# education_groupby = applications_df.groupby( by='education' )\n",
    "# for name, group in education_groupby:\n",
    "#     print(name)\n",
    "#     print(group['monthlyincome'].median())\n",
    "#     print(group['monthlycost'].median())\n",
    "\n",
    "# display(\n",
    "#     applications_df[applications_df['education_area'].isnull()]['monthlycost'].median()\n",
    "# )\n",
    "\n",
    "# display(\n",
    "#     applications_df[ applications_df['education'] == 6 ]['education_area'].value_counts()  # -> all 'education_area' are NaN valuess\n",
    "# )\n",
    "# display(\n",
    "#     applications_df[ applications_df['education'] == 5 ]['education_area'].value_counts()  # -> all 'education_area' are NaN valuess\n",
    "# )\n",
    "# display(\n",
    "#     applications_df[ applications_df['education'] == 3 ]['education_area'].value_counts()  # -> all 'education_area' are NaN valuess\n",
    "# )\n",
    "\n",
    "applications_df['education_area'] = applications_df['education_area'].fillna( 0 )"
   ]
  },
  {
   "cell_type": "code",
   "execution_count": 14,
   "metadata": {},
   "outputs": [],
   "source": [
    "# applications_df.isnull().sum()"
   ]
  },
  {
   "cell_type": "code",
   "execution_count": 15,
   "metadata": {},
   "outputs": [
    {
     "data": {
      "image/png": "[encoded data removed]",
      "text/plain": [
       "<Figure size 1800x576 with 4 Axes>"
      ]
     },
     "metadata": {
      "needs_background": "light"
     },
     "output_type": "display_data"
    }
   ],
   "source": [
    "# Remove outliers in monthlyincome and monthlycost\n",
    "# Only remove data in training set (where df!=np.nan)\n",
    "\n",
    "# Box plots\n",
    "\n",
    "fig, ax = plt.subplots( 1, 4, figsize=(25, 8) )\n",
    "\n",
    "sns.boxplot(\n",
    "    applications_df['monthlycost'],\n",
    "    hue=applications_df['df'],\n",
    "    ax=ax[0]\n",
    ")\n",
    "\n",
    "sns.boxplot(\n",
    "    np.log1p( applications_df['monthlycost'] ),\n",
    "    hue=applications_df['df'],\n",
    "    ax=ax[1]\n",
    ")\n",
    "ax[1].set_title('np.log1p')\n",
    "\n",
    "sns.boxplot(\n",
    "    applications_df['monthlyincome'],\n",
    "    hue=applications_df['df'],\n",
    "    ax=ax[2]\n",
    ")\n",
    "ax[2].set_title('np.log1p')\n",
    "\n",
    "sns.boxplot(\n",
    "    np.log1p( applications_df['monthlyincome'] ),\n",
    "    hue=applications_df['df'],\n",
    "    ax=ax[3]\n",
    ")\n",
    "\n",
    "plt.show()"
   ]
  },
  {
   "cell_type": "code",
   "execution_count": 16,
   "metadata": {},
   "outputs": [
    {
     "data": {
      "image/png": "[encoded data removed]",
      "text/plain": [
       "<Figure size 1440x504 with 3 Axes>"
      ]
     },
     "metadata": {
      "needs_background": "light"
     },
     "output_type": "display_data"
    }
   ],
   "source": [
    "# Scatter plots\n",
    "# By plotting with hue ensure all the data are from training set\n",
    "fig, ax = plt.subplots( 1, 3, figsize=(20, 7) )\n",
    "sns.scatterplot(\n",
    "    x='monthlyincome', y='monthlycost',\n",
    "    hue='df',\n",
    "    data=applications_df,\n",
    "    ax=ax[0]\n",
    ")\n",
    "ax[0].axhline(50000)\n",
    "ax[0].axvline(87000)\n",
    "ax[0].set_title('Monthly income and monthly cost dependency')\n",
    "\n",
    "sns.scatterplot(\n",
    "    np.log1p(applications_df['monthlyincome']),\n",
    "    applications_df['monthlycost'],\n",
    "    hue=applications_df['df'],\n",
    "    ax=ax[1]\n",
    ")\n",
    "ax[1].axhline(87000)\n",
    "ax[1].axvline( np.log1p(50000) )\n",
    "ax[1].set_title('monthlycost and np.log1p(monthlyincome)')\n",
    "\n",
    "sns.scatterplot(\n",
    "    applications_df['monthlyincome'],\n",
    "    np.log1p(applications_df['monthlycost']),\n",
    "    hue=applications_df['df'],\n",
    "    ax=ax[2]\n",
    ")\n",
    "ax[2].axhline( np.log1p(49000) )\n",
    "ax[2].axvline(110000)\n",
    "ax[2].set_title('monthlyincome and np.log1p(monthlycost)')\n",
    "\n",
    "plt.show()"
   ]
  },
  {
   "cell_type": "code",
   "execution_count": 17,
   "metadata": {},
   "outputs": [
    {
     "data": {
      "image/png": "[encoded data removed]",
      "text/plain": [
       "<Figure size 1440x504 with 4 Axes>"
      ]
     },
     "metadata": {
      "needs_background": "light"
     },
     "output_type": "display_data"
    }
   ],
   "source": [
    "# Distributions\n",
    "fig, ax = plt.subplots( 1, 4, figsize=(20, 7) )\n",
    "sns.distplot(\n",
    "    applications_df[ applications_df['df'].isnull() == False ]['monthlyincome'],\n",
    "    ax=ax[0]\n",
    ")\n",
    "ax[0].axvline(80000)\n",
    "ax[0].set_title('monthlyincome distribution')\n",
    "\n",
    "sns.distplot(\n",
    "    applications_df[ applications_df['df'].isnull() == False ]['monthlycost'],\n",
    "    ax=ax[1]\n",
    ")\n",
    "ax[1].axvline(75000)\n",
    "ax[1].set_title('monthlycost distribution')\n",
    "\n",
    "sns.distplot(\n",
    "    np.log1p( applications_df[ applications_df['df'].isnull() == False ]['monthlyincome'] ),\n",
    "    ax=ax[2]\n",
    ")\n",
    "ax[2].axvline( np.log1p(80000) )\n",
    "ax[2].set_title('np.log1p(monthlyincome) distribution')\n",
    "\n",
    "sns.distplot(\n",
    "    np.log1p( applications_df[ applications_df['df'].isnull() == False ]['monthlycost'] ),\n",
    "    ax=ax[3]\n",
    ")\n",
    "ax[3].axvline( np.log1p(75000) )\n",
    "ax[3].set_title('np.log1p(monthlycost) distribution')\n",
    "\n",
    "plt.show()"
   ]
  },
  {
   "cell_type": "code",
   "execution_count": 18,
   "metadata": {},
   "outputs": [
    {
     "data": {
      "text/plain": [
       "'outliers found by z-score:'"
      ]
     },
     "metadata": {},
     "output_type": "display_data"
    },
    {
     "data": {
      "text/plain": [
       "array([ 136,  265, 1235, 2193, 2919, 3214, 3298, 3369, 3813, 3897])"
      ]
     },
     "metadata": {},
     "output_type": "display_data"
    }
   ],
   "source": [
    "# z-score : std relationship\n",
    "\n",
    "z_monthlycost = np.abs( zscore(applications_df[applications_df['df'].isnull() == False]['monthlycost']) )\n",
    "# applications_df = applications_df.drop( np.where( z_monthlycost > 5 )[0] )\n",
    "\n",
    "z_monthlyincome = np.abs( zscore(applications_df[applications_df['df'].isnull() == False]['monthlyincome']) )\n",
    "# applications_df = applications_df.drop( np.where( z_monthlyincome > 5 )[0] )\n",
    "\n",
    "intercept = np.intersect1d( np.where(z_monthlyincome > 4)[0], np.where( z_monthlycost > 4)[0] )\n",
    "display( 'outliers found by z-score:', intercept )\n",
    "applications_df = applications_df.drop( intercept )"
   ]
  },
  {
   "cell_type": "code",
   "execution_count": 19,
   "metadata": {},
   "outputs": [],
   "source": [
    "# Dummy drop: cost < 50k and income < 87k - 6 values\n",
    "\n",
    "dummy_outliers = applications_df[\n",
    "    (applications_df['monthlycost'] > 50000) &\n",
    "    (applications_df['monthlyincome'] < 87000) &\n",
    "    (applications_df['df'].isnull() == False)\n",
    "].index\n",
    "\n",
    "applications_df = applications_df.drop( dummy_outliers )"
   ]
  },
  {
   "cell_type": "code",
   "execution_count": 20,
   "metadata": {},
   "outputs": [
    {
     "data": {
      "text/plain": [
       "'monthlyincome skew: 8.7991, kurtosis: 129.5955'"
      ]
     },
     "metadata": {},
     "output_type": "display_data"
    },
    {
     "data": {
      "text/plain": [
       "'monthlycost skew: 11.3052, kurtosis: 225.5265'"
      ]
     },
     "metadata": {},
     "output_type": "display_data"
    },
    {
     "data": {
      "text/plain": [
       "'log1p-transformed monthlyincome skew: 0.1824, kurtosis: 3.1994'"
      ]
     },
     "metadata": {},
     "output_type": "display_data"
    },
    {
     "data": {
      "text/plain": [
       "'log1p-transformed monthlycost skew: -0.2202, kurtosis: 1.4053'"
      ]
     },
     "metadata": {},
     "output_type": "display_data"
    }
   ],
   "source": [
    "# Check skewness and kurtosis for monthlyincome/monthlycost\n",
    "\n",
    "display(\n",
    "    'monthlyincome skew: {0:.4f}, kurtosis: {1:.4f}'.format(\n",
    "        applications_df['monthlyincome'].skew(), applications_df['monthlyincome'].kurt()\n",
    "    )\n",
    ")\n",
    "\n",
    "display(\n",
    "    'monthlycost skew: {0:.4f}, kurtosis: {1:.4f}'.format(\n",
    "        applications_df['monthlycost'].skew(), applications_df['monthlycost'].kurt()\n",
    "    )\n",
    ")\n",
    "\n",
    "# skew_fixes = [np.sqrt, np.log1p, np.log10, np.sqrt ]  # **1/3\n",
    "# for fix in skew_fixes:\n",
    "#     display(\n",
    "#         fix,\n",
    "#         'monthlyincome skew: {0:.4f}, kurtosis: {1:.4f}'.format(\n",
    "#             fix(applications_df['monthlyincome']).skew(), fix(applications_df['monthlyincome']).kurt()\n",
    "#         )\n",
    "#     )\n",
    "#     display(\n",
    "#         fix,\n",
    "#         'monthlycost skew: {0:.4f}, kurtosis: {1:.4f}'.format(\n",
    "#             fix(applications_df['monthlycost']).skew(), fix(applications_df['monthlycost']).kurt()\n",
    "#         )\n",
    "#     )\n",
    "\n",
    "display(\n",
    "    'log1p-transformed monthlyincome skew: {0:.4f}, kurtosis: {1:.4f}'.format(\n",
    "        np.log1p(applications_df['monthlyincome']).skew(), np.log1p(applications_df['monthlyincome']).kurt()\n",
    "    )\n",
    ")\n",
    "\n",
    "display(\n",
    "    'log1p-transformed monthlycost skew: {0:.4f}, kurtosis: {1:.4f}'.format(\n",
    "        np.log1p(applications_df['monthlycost']).skew(), np.log1p(applications_df['monthlycost']).kurt()\n",
    "    )\n",
    ")"
   ]
  },
  {
   "cell_type": "code",
   "execution_count": 21,
   "metadata": {},
   "outputs": [],
   "source": [
    "applications_df['monthlycost'] = np.log1p( applications_df['monthlycost'] )\n",
    "applications_df['monthlyincome'] = np.log1p( applications_df['monthlyincome'] )"
   ]
  },
  {
   "cell_type": "code",
   "execution_count": 22,
   "metadata": {},
   "outputs": [],
   "source": [
    "# Fix unbalanced classes\n",
    "\n",
    "# deal with unbalanced target class on cross-validation step"
   ]
  },
  {
   "cell_type": "code",
   "execution_count": 23,
   "metadata": {},
   "outputs": [],
   "source": [
    "# Add features to applications_df\n",
    "\n",
    "behav_client_groupby = behav_df.groupby( by='client_id' )\n",
    "\n",
    "\n",
    "def apply_most_freq_colname( client_id, col_name ):\n",
    "    selected_group = behav_client_groupby.get_group( client_id )\n",
    "    most_freq_colname_value = selected_group[col_name].mode()[0]\n",
    "    return most_freq_colname_value\n",
    "\n",
    "\n",
    "# Most frequent browser used        \n",
    "applications_df['top_browser'] = applications_df['client_id'].apply(\n",
    "    lambda x: apply_most_freq_colname( x, 'binned_browser' )\n",
    ")\n",
    "\n",
    "# Most frequent platform used\n",
    "applications_df['top_platform'] = applications_df['client_id'].apply(\n",
    "    lambda x: apply_most_freq_colname( x, 'binned_platform' )\n",
    ")"
   ]
  },
  {
   "cell_type": "code",
   "execution_count": 24,
   "metadata": {},
   "outputs": [],
   "source": [
    "# Total number of visits by certain client\n",
    "\n",
    "def apply_total_visits_cnt( client_id ):\n",
    "    selected_group = behav_client_groupby.get_group( client_id )\n",
    "    total_visits = selected_group.shape[0]\n",
    "    return total_visits\n",
    "\n",
    "\n",
    "applications_df['total_visits_cnt'] = applications_df['client_id'].apply(\n",
    "    lambda x: apply_total_visits_cnt( x )\n",
    ")\n",
    "applications_df['total_visits_cnt'] = np.log1p( applications_df['total_visits_cnt'] )"
   ]
  },
  {
   "cell_type": "code",
   "execution_count": 25,
   "metadata": {},
   "outputs": [],
   "source": [
    "# Number of devices used by certain client\n",
    "\n",
    "def apply_num_of_devices( client_id ):\n",
    "    selected_group = behav_client_groupby.get_group( client_id )\n",
    "    total_devices = selected_group['device_id'].nunique()\n",
    "    return total_devices\n",
    "\n",
    "\n",
    "applications_df['total_devices_cnt'] = applications_df['client_id'].apply(\n",
    "    lambda x: apply_num_of_devices( x )\n",
    ")"
   ]
  },
  {
   "cell_type": "code",
   "execution_count": 26,
   "metadata": {},
   "outputs": [],
   "source": [
    "# Time spent on website (log-transformed)\n",
    "\n",
    "def apply_timespent( client_id ):\n",
    "    selected_group = behav_client_groupby.get_group( client_id )\n",
    "    selected_group = selected_group.sort_values( by='create_time' )\n",
    "    time_spent_series = selected_group['create_time'].shift(-1) - selected_group['create_time']\n",
    "    time_spent_series = time_spent_series[\n",
    "        (time_spent_series / np.timedelta64(90, 'm')) <= 1.0\n",
    "    ]\n",
    "    total_time_spent = np.sum( time_spent_series )\n",
    "    return total_time_spent\n",
    "\n",
    "\n",
    "applications_df['total_time_spent'] = applications_df['client_id'].apply(\n",
    "    lambda x: apply_timespent( x )\n",
    ")\n",
    "applications_df['total_time_spent'] = applications_df['total_time_spent'] / np.timedelta64(1, 'm')\n",
    "applications_df['total_time_spent'] = np.log1p( applications_df['total_time_spent'] )"
   ]
  },
  {
   "cell_type": "code",
   "execution_count": 27,
   "metadata": {},
   "outputs": [],
   "source": [
    "# Average time spent on single visit time (log-transformed)\n",
    "\n",
    "applications_df['avg_time_per_page'] = applications_df['total_time_spent'] / applications_df['total_visits_cnt']"
   ]
  },
  {
   "cell_type": "code",
   "execution_count": 28,
   "metadata": {},
   "outputs": [],
   "source": [
    "# Number of unique days customer visited any webpage\n",
    "\n",
    "def apply_visit_days_cnt( client_id ):\n",
    "    selected_group = behav_client_groupby.get_group( client_id )\n",
    "    visit_days_cnt = selected_group['create_time'].dt.day.nunique()\n",
    "    return visit_days_cnt\n",
    "    \n",
    "\n",
    "applications_df['visit_days_cnt'] = applications_df['client_id'].apply(\n",
    "    lambda x: apply_visit_days_cnt( x )\n",
    ")"
   ]
  },
  {
   "cell_type": "code",
   "execution_count": 29,
   "metadata": {},
   "outputs": [],
   "source": [
    "# Most frequent day of week to visit the website\n",
    "\n",
    "def apply_visit_top_dayofweek( client_id ):\n",
    "    selected_group = behav_client_groupby.get_group( client_id )\n",
    "    visit_days = selected_group['create_time'].dt.dayofweek\n",
    "    most_popular_visitday = visit_days.mode()[0]\n",
    "    return most_popular_visitday\n",
    "\n",
    "\n",
    "applications_df['visit_top_dayofweek'] = applications_df['client_id'].apply(\n",
    "    lambda x: apply_visit_top_dayofweek( x )\n",
    ")"
   ]
  },
  {
   "cell_type": "code",
   "execution_count": 30,
   "metadata": {},
   "outputs": [],
   "source": [
    "# Most frequent hour of day to visit the website\n",
    "\n",
    "def apply_visit_top_dayhour( client_id ):\n",
    "    selected_group = behav_client_groupby.get_group( client_id )\n",
    "    visit_hours = selected_group['create_time'].dt.hour\n",
    "    most_popular_hour = visit_hours.mode()[0]\n",
    "    return most_popular_hour\n",
    "\n",
    "    \n",
    "applications_df['visit_top_dayhour'] = applications_df['client_id'].apply(\n",
    "    lambda x: apply_visit_top_dayhour( x )\n",
    ")"
   ]
  },
  {
   "cell_type": "code",
   "execution_count": 31,
   "metadata": {},
   "outputs": [],
   "source": [
    "# Data binning\n",
    "\n",
    "# top visit hour: <=7h, 8-12, 13-20, 21-24\n",
    "def apply_top_visit_hour( visit_top_dayhour ):\n",
    "    if visit_top_dayhour <= 7:\n",
    "        return 1\n",
    "    elif visit_top_dayhour <= 12:\n",
    "        return 2\n",
    "    elif visit_top_dayhour <= 20:\n",
    "        return 3\n",
    "    else:\n",
    "        return 4\n",
    "\n",
    "\n",
    "applications_df['binned_visit_top_dayhour'] = applications_df['visit_top_dayhour'].apply(\n",
    "    lambda x: apply_top_visit_hour( x )\n",
    ")"
   ]
  },
  {
   "cell_type": "code",
   "execution_count": 32,
   "metadata": {},
   "outputs": [],
   "source": [
    "# weekend indicator\n",
    "\n",
    "applications_df['flg_is_weekend'] = applications_df['visit_top_dayofweek'].apply(\n",
    "    lambda x: 1 if x >= 5 else 0\n",
    ")"
   ]
  },
  {
   "cell_type": "code",
   "execution_count": 33,
   "metadata": {},
   "outputs": [],
   "source": [
    "# fam_status\n",
    "applications_df['binned_fam_status'] = applications_df['fam_status'].map({\n",
    "    1:1, 2:1, 4:1,\n",
    "    3:2,\n",
    "    5:3\n",
    "})"
   ]
  },
  {
   "cell_type": "code",
   "execution_count": 34,
   "metadata": {},
   "outputs": [],
   "source": [
    "# quantity_child\n",
    "applications_df['binned_quantity_child'] = applications_df['quantity_child'].apply(\n",
    "    lambda quantity_child: quantity_child if quantity_child <= 4 else 5\n",
    ")"
   ]
  },
  {
   "cell_type": "code",
   "execution_count": 35,
   "metadata": {},
   "outputs": [],
   "source": [
    "# max_age_child\n",
    "\n",
    "def apply_max_age_bins( max_age_child ):\n",
    "    if max_age_child <= 5:\n",
    "        return 1\n",
    "    elif max_age_child <= 12:\n",
    "        return 2\n",
    "    elif max_age_child <= 18:\n",
    "        return 3\n",
    "    elif max_age_child <= 25:\n",
    "        return 4\n",
    "    else:\n",
    "        return 5\n",
    "\n",
    "\n",
    "applications_df['binned_max_age_child'] = applications_df['max_age_child'].apply(\n",
    "    lambda x: apply_max_age_bins( x )\n",
    ")"
   ]
  },
  {
   "cell_type": "code",
   "execution_count": 36,
   "metadata": {},
   "outputs": [],
   "source": [
    "# property\n",
    "\n",
    "applications_df['binned_property'] = applications_df['property'].map({\n",
    "    1:1, 2:1,\n",
    "    4:2,\n",
    "    3:3, 5:3,\n",
    "    6:4    \n",
    "})"
   ]
  },
  {
   "cell_type": "code",
   "execution_count": 37,
   "metadata": {},
   "outputs": [],
   "source": [
    "# region\n",
    "\n",
    "applications_df['binned_region'] = applications_df['region'].map({\n",
    "    7:1, 17:1,\n",
    "    1:2, 4:2, 8:2, 9:2, 10:2, 11:2, 13:2, 22:2\n",
    "})\n",
    "applications_df['binned_region'] = applications_df['binned_region'].fillna( 3 )\n",
    "applications_df['binned_region'] = applications_df['binned_region'].astype( int )"
   ]
  },
  {
   "cell_type": "code",
   "execution_count": 38,
   "metadata": {},
   "outputs": [],
   "source": [
    "# region_reg\n",
    "\n",
    "applications_df['binned_region_reg'] = applications_df['region_reg'].map({\n",
    "    1:1, 2:1, 9:1, 19:1, 21:1,\n",
    "    6:2, 8:2, 10:2, 11:2, 12:2, 14:2, 16:2, 17:2, 18:2, 22:2, 23:2, 24:2, 25:2, 26:2, 27:2\n",
    "})\n",
    "applications_df['binned_region_reg'] = applications_df['binned_region_reg'].fillna( 3 )\n",
    "applications_df['binned_region_reg'] = applications_df['binned_region_reg'].astype( int )"
   ]
  },
  {
   "cell_type": "code",
   "execution_count": 39,
   "metadata": {},
   "outputs": [],
   "source": [
    "# work_experience\n",
    "\n",
    "def apply_work_experience_bins( work_experience ):\n",
    "    if work_experience >= 37:\n",
    "        return 1\n",
    "    elif work_experience >= 20:\n",
    "        return 2\n",
    "    elif work_experience >= 14:\n",
    "        return 3\n",
    "    elif work_experience >= 9:\n",
    "        return 4\n",
    "    elif work_experience >= 6:\n",
    "        return 5\n",
    "    else:\n",
    "        return 6\n",
    "\n",
    "\n",
    "applications_df['binned_work_experience'] = applications_df['work_experience'].apply(\n",
    "    lambda x: apply_work_experience_bins( x )\n",
    ")"
   ]
  },
  {
   "cell_type": "code",
   "execution_count": 40,
   "metadata": {},
   "outputs": [],
   "source": [
    "# empl_state\n",
    "\n",
    "applications_df['binned_empl_state'] = applications_df['empl_state'].map({\n",
    "    1:1, 3:1, 4:1, 5:1,\n",
    "    2:2,\n",
    "    6:3\n",
    "})"
   ]
  },
  {
   "cell_type": "code",
   "execution_count": 41,
   "metadata": {},
   "outputs": [],
   "source": [
    "# empl_type\n",
    "\n",
    "applications_df['binned_empl_type'] = applications_df['empl_type'].map({\n",
    "    1:1, 2:1, 5:1, 7:1, 8:1, 10:1, 11:1,\n",
    "    3:2, 4:2, 6:2, 9:2, 12:2, 13:2,\n",
    "    0:3\n",
    "})"
   ]
  },
  {
   "cell_type": "code",
   "execution_count": 42,
   "metadata": {},
   "outputs": [],
   "source": [
    "# empl_worker_count\n",
    "\n",
    "applications_df['binned_empl_worker_count'] = applications_df['empl_worker_count'].map({\n",
    "    1:1,\n",
    "    2:2, 5:2, 6:2,\n",
    "    3:3, 4:3,\n",
    "    0:4\n",
    "})"
   ]
  },
  {
   "cell_type": "code",
   "execution_count": 43,
   "metadata": {},
   "outputs": [],
   "source": [
    "# education_area\n",
    "\n",
    "applications_df['binned_education_area'] = applications_df['education_area'].map({\n",
    "    1:1,\n",
    "    5:2, 6:2, 7:2, 8:2,\n",
    "    2:3, 4:3, 9:3, 11:3,\n",
    "    3:4, 10:4,    \n",
    "    0:5    \n",
    "})"
   ]
  },
  {
   "cell_type": "code",
   "execution_count": 44,
   "metadata": {},
   "outputs": [],
   "source": [
    "# education\n",
    "\n",
    "applications_df['binned_education'] = applications_df['education'].map({\n",
    "    1:1, 2:1, 4:1, 6:1,\n",
    "    3:2, 5:2,\n",
    "    7:3,\n",
    "})"
   ]
  },
  {
   "cell_type": "code",
   "execution_count": 49,
   "metadata": {},
   "outputs": [],
   "source": [
    "# Feature engineering\n",
    "\n",
    "# Flag observations where monthlyincome < monthlycost (161 observations)\n",
    "observations_to_flag = applications_df[ applications_df['monthlyincome'] < applications_df['monthlycost'] ]\n",
    "applications_df.loc[observations_to_flag.index, 'flg_inc_lt_cost'] = 1\n",
    "applications_df['flg_inc_lt_cost'] = applications_df['flg_inc_lt_cost'].fillna( 0 )\n",
    "\n",
    "# Flag observations where monthlyincome == monthlycost (302 observations)\n",
    "observations_to_flag = applications_df[ applications_df['monthlyincome'] == applications_df['monthlycost'] ]\n",
    "applications_df.loc[observations_to_flag.index, 'flg_inc_eq_cost'] = 1\n",
    "applications_df['flg_inc_eq_cost'] = applications_df['flg_inc_eq_cost'].fillna( 0 )\n",
    "\n",
    "# Log-transformed difference between income and expenses: money left at the end of the month\n",
    "applications_df['inc_cost_diff'] = applications_df['monthlyincome'] - applications_df['monthlycost']\n",
    "\n",
    "# Percentage of money left at the end of the month\n",
    "applications_df['inc_cost_diff_pct'] = applications_df['inc_cost_diff'] * 100.0 / applications_df['monthlyincome']\n",
    "\n",
    "# Weird polynomial / relation feature for cost / income features\n",
    "applications_df['weird_sqrtcost_inc'] = np.sqrt(applications_df['monthlycost']) / applications_df['monthlyincome']\n",
    "\n",
    "# Weird polynomial feature #2 for cost / income features\n",
    "applications_df['weird_sqrcost_inc'] = applications_df['monthlycost'] ** 2 / applications_df['monthlyincome']\n",
    "\n",
    "# Interaction between cost and income\n",
    "applications_df['intrct_income_cost'] = applications_df['monthlyincome'] * applications_df['monthlycost']\n",
    "\n",
    "# Flag if client has a child\n",
    "applications_df['flg_has_child'] = applications_df['max_age_child'].apply( lambda x: 1 if x==0.0 else 0 )\n",
    "\n",
    "# Region and Registration region interaction\n",
    "applications_df['interct_region_regionreg'] = applications_df['region'] * applications_df['region_reg']\n",
    "\n",
    "# Binned region and Binned registration region interaction\n",
    "applications_df['interct_binregion_binregionreg'] = applications_df['binned_region'] * applications_df['binned_region_reg']\n",
    "\n",
    "# Format 'birth' to 'days from birth to application creation time'\n",
    "applications_df['days_from_birth'] = applications_df['app_crtime'].dt.date - applications_df['birth'].dt.date\n",
    "applications_df['days_from_birth'] = applications_df['days_from_birth'].apply( lambda x: x.days )\n",
    "\n",
    "# Bin 'days_from_birth' into several categories\n",
    "def apply_days_from_birth_bins( x ):\n",
    "    if x <= 20 * 365:\n",
    "        return 1\n",
    "    elif x <= 25 * 365:\n",
    "        return 2\n",
    "    elif x <= 30 * 365:\n",
    "        return 3\n",
    "    elif x <= 50 * 365:\n",
    "        return 4\n",
    "    else:\n",
    "        return 5\n",
    "applications_df['binned_days_from_birth'] = applications_df['days_from_birth'].apply(\n",
    "    lambda x: apply_days_from_birth_bins( x )\n",
    ")\n",
    "\n",
    "# Format 'pass_bdate' to 'days from birth to date when was getting a passport'\n",
    "applications_df['days_from_passbdate'] = applications_df['pass_bdate'].dt.date - applications_df['birth'].dt.date\n",
    "applications_df['days_from_passbdate'] = applications_df['days_from_passbdate'].apply( lambda x: x.days )\n",
    "\n",
    "# Bin 'days_from_passbdate' to identify scammers\n",
    "def apply_days_from_passbdate_bins( x ):\n",
    "    if x < 16 * 365:\n",
    "        return 1\n",
    "    elif x > 30 * 365:\n",
    "        return 2\n",
    "    else:\n",
    "        return 3\n",
    "applications_df['binned_days_from_passbdate'] = applications_df['days_from_passbdate'].apply(\n",
    "    lambda x: apply_days_from_passbdate_bins( x )\n",
    ")\n",
    "\n",
    "# Format 'jobsworksince' to 'days from application date and start of the prev job'\n",
    "applications_df['days_from_jobsworksince'] = applications_df['app_crtime'].dt.date - applications_df['jobsworksince']\n",
    "applications_df['days_from_jobsworksince'] = applications_df['days_from_jobsworksince'].apply( lambda x: x.days )\n",
    "\n",
    "# has_job - if jobsworksince = 0 -> no previous job / can't remember previous job / currently unemployed\n",
    "applications_df['flg_has_job'] = applications_df['days_from_jobsworksince'].apply( lambda x: 1 if x == 0 else 0 )\n",
    "\n",
    "# Last job employment days to birth days ratio\n",
    "applications_df['employ_to_birth_ratio'] = applications_df['days_from_jobsworksince'] / applications_df['days_from_birth']"
   ]
  },
  {
   "cell_type": "code",
   "execution_count": 50,
   "metadata": {},
   "outputs": [
    {
     "data": {
      "image/png": "[encoded data removed]",
      "text/plain": [
       "<Figure size 360x360 with 2 Axes>"
      ]
     },
     "metadata": {
      "needs_background": "light"
     },
     "output_type": "display_data"
    },
    {
     "data": {
      "image/png": "[encoded data removed]",
      "text/plain": [
       "<Figure size 360x360 with 2 Axes>"
      ]
     },
     "metadata": {
      "needs_background": "light"
     },
     "output_type": "display_data"
    }
   ],
   "source": [
    "# Look at correlation\n",
    "\n",
    "# Pearson correlation\n",
    "fig = plt.figure( figsize=(5, 5) )\n",
    "sns.heatmap(\n",
    "#     applications_df.corr(),\n",
    "    applications_df[ ['monthlyincome', 'monthlycost', 'weird_sqrtcost_inc', 'intrct_income_cost', 'weird_sqrtcost_inc'] ].corr(),\n",
    "    annot=True\n",
    ")\n",
    "plt.autoscale()\n",
    "plt.show()\n",
    "\n",
    "fig = plt.figure( figsize=(5, 5) )\n",
    "sns.heatmap(\n",
    "#     applications_df.corr(method='spearman'),\n",
    "    applications_df[ ['monthlyincome', 'monthlycost', 'weird_sqrtcost_inc', 'intrct_income_cost', 'weird_sqrtcost_inc'] ].corr(method='spearman'),\n",
    "    annot=True\n",
    ")\n",
    "plt.autoscale()\n",
    "plt.show()"
   ]
  },
  {
   "cell_type": "code",
   "execution_count": 51,
   "metadata": {},
   "outputs": [],
   "source": [
    "# fig, ax = plt.subplots( figsize=(15, 15) )\n",
    "# pd.plotting.scatter_matrix(\n",
    "#     applications_df[ ['monthlyincome', 'monthlycost', 'weird_sqrtcost_inc', 'intrct_income_cost'] ], ax=ax\n",
    "# )\n",
    "# plt.autoscale()\n",
    "# plt.show()"
   ]
  },
  {
   "cell_type": "code",
   "execution_count": 52,
   "metadata": {},
   "outputs": [],
   "source": [
    "# feature scaling:\n",
    "# skip - do that in modelling notebooks"
   ]
  },
  {
   "cell_type": "code",
   "execution_count": 53,
   "metadata": {},
   "outputs": [],
   "source": [
    "# Save dataset with preprocessed data and new features\n",
    "\n",
    "import pickle\n",
    "\n",
    "pickle.dump( applications_df, open('preprocessed_applications_df.dataframe.pd', 'wb') )"
   ]
  },
  {
   "cell_type": "code",
   "execution_count": 54,
   "metadata": {},
   "outputs": [
    {
     "data": {
      "text/html": [
       "<div>\n",
       "<style scoped>\n",
       "    .dataframe tbody tr th:only-of-type {\n",
       "        vertical-align: middle;\n",
       "    }\n",
       "\n",
       "    .dataframe tbody tr th {\n",
       "        vertical-align: top;\n",
       "    }\n",
       "\n",
       "    .dataframe thead th {\n",
       "        text-align: right;\n",
       "    }\n",
       "</style>\n",
       "<table border=\"1\" class=\"dataframe\">\n",
       "  <thead>\n",
       "    <tr style=\"text-align: right;\">\n",
       "      <th></th>\n",
       "      <th>appl_id</th>\n",
       "      <th>app_crtime</th>\n",
       "      <th>client_id</th>\n",
       "      <th>birth</th>\n",
       "      <th>gender</th>\n",
       "      <th>pass_bdate</th>\n",
       "      <th>fam_status</th>\n",
       "      <th>quantity_child</th>\n",
       "      <th>max_age_child</th>\n",
       "      <th>property</th>\n",
       "      <th>lived_since</th>\n",
       "      <th>is_same_reg_lived_since</th>\n",
       "      <th>region</th>\n",
       "      <th>region_reg</th>\n",
       "      <th>jobsworksince</th>\n",
       "      <th>work_experience</th>\n",
       "      <th>empl_state</th>\n",
       "      <th>empl_type</th>\n",
       "      <th>empl_worker_count</th>\n",
       "      <th>education_area</th>\n",
       "      <th>education</th>\n",
       "      <th>monthlyincome</th>\n",
       "      <th>monthlycost</th>\n",
       "      <th>df</th>\n",
       "      <th>top_browser</th>\n",
       "      <th>top_platform</th>\n",
       "      <th>total_visits_cnt</th>\n",
       "      <th>total_devices_cnt</th>\n",
       "      <th>total_time_spent</th>\n",
       "      <th>avg_time_per_page</th>\n",
       "      <th>visit_days_cnt</th>\n",
       "      <th>visit_top_dayofweek</th>\n",
       "      <th>visit_top_dayhour</th>\n",
       "      <th>binned_visit_top_dayhour</th>\n",
       "      <th>flg_is_weekend</th>\n",
       "      <th>binned_fam_status</th>\n",
       "      <th>binned_quantity_child</th>\n",
       "      <th>binned_max_age_child</th>\n",
       "      <th>binned_property</th>\n",
       "      <th>binned_region</th>\n",
       "      <th>binned_region_reg</th>\n",
       "      <th>binned_work_experience</th>\n",
       "      <th>binned_empl_state</th>\n",
       "      <th>binned_empl_type</th>\n",
       "      <th>binned_empl_worker_count</th>\n",
       "      <th>binned_education_area</th>\n",
       "      <th>binned_education</th>\n",
       "      <th>flg_inc_lt_cost</th>\n",
       "      <th>flg_inc_eq_cost</th>\n",
       "      <th>inc_cost_diff</th>\n",
       "      <th>inc_cost_diff_pct</th>\n",
       "      <th>weird_sqrtcost_inc</th>\n",
       "      <th>weird_sqrcost_inc</th>\n",
       "      <th>intrct_income_cost</th>\n",
       "      <th>flg_has_child</th>\n",
       "      <th>interct_region_regionreg</th>\n",
       "      <th>interct_binregion_binregionreg</th>\n",
       "      <th>days_from_birth</th>\n",
       "      <th>binned_days_from_birth</th>\n",
       "      <th>days_from_passbdate</th>\n",
       "      <th>binned_days_from_passbdate</th>\n",
       "      <th>days_from_jobsworksince</th>\n",
       "      <th>flg_has_job</th>\n",
       "      <th>app_month_num</th>\n",
       "      <th>employ_to_birth_ratio</th>\n",
       "    </tr>\n",
       "  </thead>\n",
       "  <tbody>\n",
       "    <tr>\n",
       "      <th>6392</th>\n",
       "      <td>516339</td>\n",
       "      <td>2017-09-02 08:14:05+00:00</td>\n",
       "      <td>68433</td>\n",
       "      <td>1985-03-21</td>\n",
       "      <td>2</td>\n",
       "      <td>2003-12-29</td>\n",
       "      <td>4</td>\n",
       "      <td>1</td>\n",
       "      <td>0.0</td>\n",
       "      <td>1</td>\n",
       "      <td>2000-02-10</td>\n",
       "      <td>2000-02-10</td>\n",
       "      <td>3</td>\n",
       "      <td>4</td>\n",
       "      <td>2004-02-10</td>\n",
       "      <td>13</td>\n",
       "      <td>1</td>\n",
       "      <td>6.0</td>\n",
       "      <td>5.0</td>\n",
       "      <td>0.0</td>\n",
       "      <td>6</td>\n",
       "      <td>8.779711</td>\n",
       "      <td>8.216358</td>\n",
       "      <td>good</td>\n",
       "      <td>7</td>\n",
       "      <td>5</td>\n",
       "      <td>2.772589</td>\n",
       "      <td>1</td>\n",
       "      <td>4.048662</td>\n",
       "      <td>1.460246</td>\n",
       "      <td>1</td>\n",
       "      <td>5</td>\n",
       "      <td>8</td>\n",
       "      <td>2</td>\n",
       "      <td>1</td>\n",
       "      <td>1</td>\n",
       "      <td>1</td>\n",
       "      <td>1</td>\n",
       "      <td>1</td>\n",
       "      <td>3</td>\n",
       "      <td>3</td>\n",
       "      <td>4</td>\n",
       "      <td>1</td>\n",
       "      <td>2</td>\n",
       "      <td>2</td>\n",
       "      <td>5</td>\n",
       "      <td>1</td>\n",
       "      <td>0.0</td>\n",
       "      <td>0.0</td>\n",
       "      <td>0.563353</td>\n",
       "      <td>6.416532</td>\n",
       "      <td>0.326482</td>\n",
       "      <td>7.689153</td>\n",
       "      <td>72.137254</td>\n",
       "      <td>1</td>\n",
       "      <td>12</td>\n",
       "      <td>9</td>\n",
       "      <td>11853</td>\n",
       "      <td>4</td>\n",
       "      <td>6857</td>\n",
       "      <td>3</td>\n",
       "      <td>4953</td>\n",
       "      <td>0</td>\n",
       "      <td>9</td>\n",
       "      <td>0.417869</td>\n",
       "    </tr>\n",
       "  </tbody>\n",
       "</table>\n",
       "</div>"
      ],
      "text/plain": [
       "      appl_id                app_crtime  client_id      birth  gender  \\\n",
       "6392   516339 2017-09-02 08:14:05+00:00      68433 1985-03-21       2   \n",
       "\n",
       "     pass_bdate  fam_status  quantity_child  max_age_child  property  \\\n",
       "6392 2003-12-29           4               1            0.0         1   \n",
       "\n",
       "     lived_since is_same_reg_lived_since  region  region_reg jobsworksince  \\\n",
       "6392  2000-02-10              2000-02-10       3           4    2004-02-10   \n",
       "\n",
       "      work_experience  empl_state  empl_type  empl_worker_count  \\\n",
       "6392               13           1        6.0                5.0   \n",
       "\n",
       "      education_area  education  monthlyincome  monthlycost    df  \\\n",
       "6392             0.0          6       8.779711     8.216358  good   \n",
       "\n",
       "      top_browser  top_platform  total_visits_cnt  total_devices_cnt  \\\n",
       "6392            7             5          2.772589                  1   \n",
       "\n",
       "      total_time_spent  avg_time_per_page  visit_days_cnt  \\\n",
       "6392          4.048662           1.460246               1   \n",
       "\n",
       "      visit_top_dayofweek  visit_top_dayhour  binned_visit_top_dayhour  \\\n",
       "6392                    5                  8                         2   \n",
       "\n",
       "      flg_is_weekend  binned_fam_status  binned_quantity_child  \\\n",
       "6392               1                  1                      1   \n",
       "\n",
       "      binned_max_age_child  binned_property  binned_region  binned_region_reg  \\\n",
       "6392                     1                1              3                  3   \n",
       "\n",
       "      binned_work_experience  binned_empl_state  binned_empl_type  \\\n",
       "6392                       4                  1                 2   \n",
       "\n",
       "      binned_empl_worker_count  binned_education_area  binned_education  \\\n",
       "6392                         2                      5                 1   \n",
       "\n",
       "      flg_inc_lt_cost  flg_inc_eq_cost  inc_cost_diff  inc_cost_diff_pct  \\\n",
       "6392              0.0              0.0       0.563353           6.416532   \n",
       "\n",
       "      weird_sqrtcost_inc  weird_sqrcost_inc  intrct_income_cost  \\\n",
       "6392            0.326482           7.689153           72.137254   \n",
       "\n",
       "      flg_has_child  interct_region_regionreg  interct_binregion_binregionreg  \\\n",
       "6392              1                        12                               9   \n",
       "\n",
       "      days_from_birth  binned_days_from_birth  days_from_passbdate  \\\n",
       "6392            11853                       4                 6857   \n",
       "\n",
       "      binned_days_from_passbdate  days_from_jobsworksince  flg_has_job  \\\n",
       "6392                           3                     4953            0   \n",
       "\n",
       "      app_month_num  employ_to_birth_ratio  \n",
       "6392              9               0.417869  "
      ]
     },
     "execution_count": 54,
     "metadata": {},
     "output_type": "execute_result"
    }
   ],
   "source": [
    "applications_df.sample()"
   ]
  },
  {
   "cell_type": "code",
   "execution_count": 55,
   "metadata": {},
   "outputs": [],
   "source": [
    "applications_df['df'] = applications_df['df'].fillna( 'test' )"
   ]
  },
  {
   "cell_type": "code",
   "execution_count": 57,
   "metadata": {},
   "outputs": [],
   "source": [
    "# applications_df.to_excel( 'output.xslx', engine='openpyxl' )"
   ]
  }
 ],
 "metadata": {
  "kernelspec": {
   "display_name": "Python 3",
   "language": "python",
   "name": "python3"
  },
  "language_info": {
   "codemirror_mode": {
    "name": "ipython",
    "version": 3
   },
   "file_extension": ".py",
   "mimetype": "text/x-python",
   "name": "python",
   "nbconvert_exporter": "python",
   "pygments_lexer": "ipython3",
   "version": "3.7.3"
  }
 },
 "nbformat": 4,
 "nbformat_minor": 2
}
